{
 "cells": [
  {
   "cell_type": "markdown",
   "id": "b63a0746",
   "metadata": {},
   "source": [
    "# Stylist"
   ]
  },
  {
   "cell_type": "markdown",
   "id": "2da26690",
   "metadata": {},
   "source": [
    "## Step 1 - Feature ranking in training environments "
   ]
  },
  {
   "cell_type": "markdown",
   "id": "671a2334",
   "metadata": {},
   "source": [
    "* The line below computes ResNet-18 feature ranking on dataset COCOShift95. \n",
    "* Step1 results will be saved in ./results/ranking_methods\n",
    "* Configs:\n",
    "    * datasets: FMoW, DomainNet, COCOShift_balanced, COCOShift75, COCOShift90, COCOShift95\n",
    "    * features: clip, resnet18 \n",
    "    * features selection methods: Stylist, random, PCA_loadings, InfoGain, FisherScore, MAD, Dispersion, Variance "
   ]
  },
  {
   "cell_type": "code",
   "execution_count": null,
   "id": "326510a9",
   "metadata": {},
   "outputs": [],
   "source": [
    "!python step1_feature_ranking.py COCOShift95 resnet18 Stylist ./results/ranking_methods"
   ]
  },
  {
   "cell_type": "markdown",
   "id": "fb079e8f",
   "metadata": {},
   "source": [
    "## Step 2 - Features selection for Robust Novelty Detection"
   ]
  },
  {
   "cell_type": "markdown",
   "id": "69db9cc7",
   "metadata": {},
   "source": [
    "* The line below applies the kNN for novelty detection, on dataset COCOShift95, based on the ResNet-18 feature ranking computed in Step1. \n",
    "* Step1 results will be read from ./results/ranking_methods \n",
    "* Step2 results will be saved in ./results/nd_methods\n",
    "* Configs:\n",
    "    * datasets: FMoW, DomainNet, COCOShift_balanced, COCOShift75, COCOShift90, COCOShift95\n",
    "    * features: clip, resnet18 \n",
    "    * features selection methods: Stylist, random, PCA_loadings, InfoGain, FisherScore, MAD, Dispersion, Variance \n",
    "    * novelty detection methods: kNN"
   ]
  },
  {
   "cell_type": "code",
   "execution_count": null,
   "id": "22530151",
   "metadata": {},
   "outputs": [],
   "source": [
    "!python step2_features_selection_for_ND.py COCOShift95 resnet18 Stylist kNN ./results/ranking_methods ./results/nd_methods"
   ]
  },
  {
   "cell_type": "code",
   "execution_count": null,
   "id": "6213c2ce",
   "metadata": {},
   "outputs": [],
   "source": []
  }
 ],
 "metadata": {
  "kernelspec": {
   "display_name": "Python 3 (ipykernel)",
   "language": "python",
   "name": "python3"
  },
  "language_info": {
   "codemirror_mode": {
    "name": "ipython",
    "version": 3
   },
   "file_extension": ".py",
   "mimetype": "text/x-python",
   "name": "python",
   "nbconvert_exporter": "python",
   "pygments_lexer": "ipython3",
   "version": "3.10.4"
  }
 },
 "nbformat": 4,
 "nbformat_minor": 5
}
